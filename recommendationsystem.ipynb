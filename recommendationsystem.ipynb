{
  "nbformat": 4,
  "nbformat_minor": 0,
  "metadata": {
    "colab": {
      "provenance": []
    },
    "kernelspec": {
      "name": "python3",
      "display_name": "Python 3"
    },
    "language_info": {
      "name": "python"
    }
  },
  "cells": [
    {
      "cell_type": "code",
      "execution_count": 1,
      "metadata": {
        "colab": {
          "base_uri": "https://localhost:8080/"
        },
        "id": "d4jD0xuqtLwr",
        "outputId": "d59afdd9-b483-4c25-f32f-f77990ea4acf"
      },
      "outputs": [
        {
          "output_type": "stream",
          "name": "stdout",
          "text": [
            "Recommendations for User1 :\n"
          ]
        }
      ],
      "source": [
        "\n",
        "user_preferences = {\n",
        "    'User1': {'Book1': 5, 'Book2': 4, 'Book3': 3, 'Book4': 2, 'Book5': 1},\n",
        "    'User2': {'Book1': 4, 'Book2': 3, 'Book3': 5, 'Book4': 2, 'Book5': 1},\n",
        "    'User3': {'Book1': 3, 'Book2': 5, 'Book3': 4, 'Book4': 1, 'Book5': 2},\n",
        "    'User4': {'Book1': 2, 'Book2': 3, 'Book3': 4, 'Book4': 5, 'Book5': 1},\n",
        "    'User5': {'Book1': 1, 'Book2': 2, 'Book3': 3, 'Book4': 4, 'Book5': 5}\n",
        "}\n",
        "book_names = {\n",
        "    'Book1': 'The Great Gatsby',\n",
        "    'Book2': 'To Kill a Mockingbird',\n",
        "    'Book3': '1984',\n",
        "    'Book4': 'Pride and Prejudice',\n",
        "    'Book5': 'Harry Potter and the Sorcerer\\'s Stone'\n",
        "}\n",
        "\n",
        "# Function to calculate similarity between two users based on preferences\n",
        "def calculate_similarity(user1, user2):\n",
        "    common_books = set(user1.keys()) & set(user2.keys())\n",
        "    if len(common_books) == 0:\n",
        "        return 0\n",
        "    numerator = sum(user1[book] * user2[book] for book in common_books)\n",
        "    denominator = (sum(user1[book]**2 for book in user1.keys()) ** 0.5) * (sum(user2[book]**2 for book in user2.keys()) ** 0.5)\n",
        "    return numerator / denominator\n",
        "def get_recommendations(user):\n",
        "    similar_users = {}\n",
        "    for other_user in user_preferences:\n",
        "        if other_user != user:\n",
        "            similarity = calculate_similarity(user_preferences[user], user_preferences[other_user])\n",
        "            similar_users[other_user] = similarity\n",
        "\n",
        "    sorted_similar_users = sorted(similar_users.items(), key=lambda x: x[1], reverse=True)\n",
        "\n",
        "    recommendations = {}\n",
        "    for book in user_preferences[user]:\n",
        "        if user_preferences[user][book] == 0:\n",
        "            numerator = 0\n",
        "            denominator = 0\n",
        "            for other_user, similarity in sorted_similar_users:\n",
        "                if book in user_preferences[other_user]:\n",
        "                    numerator += similarity * user_preferences[other_user][book]\n",
        "                    denominator += similarity\n",
        "            recommendations[book] = numerator / denominator if denominator != 0 else 0\n",
        "\n",
        "    sorted_recommendations = sorted(recommendations.items(), key=lambda x: x[1], reverse=True)\n",
        "\n",
        "    print(\"Recommendations for\", user, \":\")\n",
        "    for book, score in sorted_recommendations:\n",
        "        print(book_names[book], \"-\", score)\n",
        "user = 'User1'\n",
        "get_recommendations(user)\n"
      ]
    }
  ]
}